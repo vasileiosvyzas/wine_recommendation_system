{
 "cells": [
  {
   "cell_type": "markdown",
   "metadata": {},
   "source": [
    "# Wine filtering by flavours\n",
    "In this notebook I will extract the flavours from the wine descriptions I have from the Wine Enthusiast website and I will also use an additional data sources with flavours and spices to mix and match. I will also implement a word2vec model. The list with the word2vec model will be used to create a filtering system."
   ]
  },
  {
   "cell_type": "code",
   "execution_count": 1,
   "metadata": {
    "collapsed": true
   },
   "outputs": [],
   "source": [
    "import pandas as pd\n",
    "import numpy as np\n",
    "import matplotlib.pyplot as plt\n",
    "import os\n",
    "import nltk\n",
    "import re\n",
    "import pickle\n",
    "import spacy\n",
    "\n",
    "from sklearn.feature_extraction.text import TfidfVectorizer\n",
    "from nltk.corpus import stopwords\n",
    "from nltk.stem.porter import *\n",
    "from textblob import TextBlob\n",
    "from textblob import Word\n",
    "from collections import Counter\n",
    "from nltk import word_tokenize\n",
    "from nltk import sent_tokenize\n",
    "from sklearn.metrics.pairwise import cosine_similarity\n",
    "\n",
    "%matplotlib inline"
   ]
  },
  {
   "cell_type": "code",
   "execution_count": 2,
   "metadata": {
    "collapsed": true
   },
   "outputs": [],
   "source": [
    "os.chdir('/home/fykos/Documents/workspace/wine_recommendation_system//')"
   ]
  },
  {
   "cell_type": "code",
   "execution_count": 3,
   "metadata": {
    "collapsed": true
   },
   "outputs": [],
   "source": [
    "wine = pd.read_csv('data/raw/winemag-data-130k-v2.csv')"
   ]
  },
  {
   "cell_type": "code",
   "execution_count": 4,
   "metadata": {},
   "outputs": [
    {
     "data": {
      "text/html": [
       "<div>\n",
       "<style>\n",
       "    .dataframe thead tr:only-child th {\n",
       "        text-align: right;\n",
       "    }\n",
       "\n",
       "    .dataframe thead th {\n",
       "        text-align: left;\n",
       "    }\n",
       "\n",
       "    .dataframe tbody tr th {\n",
       "        vertical-align: top;\n",
       "    }\n",
       "</style>\n",
       "<table border=\"1\" class=\"dataframe\">\n",
       "  <thead>\n",
       "    <tr style=\"text-align: right;\">\n",
       "      <th></th>\n",
       "      <th>Unnamed: 0</th>\n",
       "      <th>country</th>\n",
       "      <th>description</th>\n",
       "      <th>designation</th>\n",
       "      <th>points</th>\n",
       "      <th>price</th>\n",
       "      <th>province</th>\n",
       "      <th>region_1</th>\n",
       "      <th>region_2</th>\n",
       "      <th>taster_name</th>\n",
       "      <th>taster_twitter_handle</th>\n",
       "      <th>title</th>\n",
       "      <th>variety</th>\n",
       "      <th>winery</th>\n",
       "    </tr>\n",
       "  </thead>\n",
       "  <tbody>\n",
       "    <tr>\n",
       "      <th>0</th>\n",
       "      <td>0</td>\n",
       "      <td>Italy</td>\n",
       "      <td>Aromas include tropical fruit, broom, brimston...</td>\n",
       "      <td>Vulkà Bianco</td>\n",
       "      <td>87</td>\n",
       "      <td>NaN</td>\n",
       "      <td>Sicily &amp; Sardinia</td>\n",
       "      <td>Etna</td>\n",
       "      <td>NaN</td>\n",
       "      <td>Kerin O’Keefe</td>\n",
       "      <td>@kerinokeefe</td>\n",
       "      <td>Nicosia 2013 Vulkà Bianco  (Etna)</td>\n",
       "      <td>White Blend</td>\n",
       "      <td>Nicosia</td>\n",
       "    </tr>\n",
       "    <tr>\n",
       "      <th>1</th>\n",
       "      <td>1</td>\n",
       "      <td>Portugal</td>\n",
       "      <td>This is ripe and fruity, a wine that is smooth...</td>\n",
       "      <td>Avidagos</td>\n",
       "      <td>87</td>\n",
       "      <td>15.0</td>\n",
       "      <td>Douro</td>\n",
       "      <td>NaN</td>\n",
       "      <td>NaN</td>\n",
       "      <td>Roger Voss</td>\n",
       "      <td>@vossroger</td>\n",
       "      <td>Quinta dos Avidagos 2011 Avidagos Red (Douro)</td>\n",
       "      <td>Portuguese Red</td>\n",
       "      <td>Quinta dos Avidagos</td>\n",
       "    </tr>\n",
       "    <tr>\n",
       "      <th>2</th>\n",
       "      <td>2</td>\n",
       "      <td>US</td>\n",
       "      <td>Tart and snappy, the flavors of lime flesh and...</td>\n",
       "      <td>NaN</td>\n",
       "      <td>87</td>\n",
       "      <td>14.0</td>\n",
       "      <td>Oregon</td>\n",
       "      <td>Willamette Valley</td>\n",
       "      <td>Willamette Valley</td>\n",
       "      <td>Paul Gregutt</td>\n",
       "      <td>@paulgwine</td>\n",
       "      <td>Rainstorm 2013 Pinot Gris (Willamette Valley)</td>\n",
       "      <td>Pinot Gris</td>\n",
       "      <td>Rainstorm</td>\n",
       "    </tr>\n",
       "  </tbody>\n",
       "</table>\n",
       "</div>"
      ],
      "text/plain": [
       "   Unnamed: 0   country                                        description  \\\n",
       "0           0     Italy  Aromas include tropical fruit, broom, brimston...   \n",
       "1           1  Portugal  This is ripe and fruity, a wine that is smooth...   \n",
       "2           2        US  Tart and snappy, the flavors of lime flesh and...   \n",
       "\n",
       "    designation  points  price           province           region_1  \\\n",
       "0  Vulkà Bianco      87    NaN  Sicily & Sardinia               Etna   \n",
       "1      Avidagos      87   15.0              Douro                NaN   \n",
       "2           NaN      87   14.0             Oregon  Willamette Valley   \n",
       "\n",
       "            region_2    taster_name taster_twitter_handle  \\\n",
       "0                NaN  Kerin O’Keefe          @kerinokeefe   \n",
       "1                NaN     Roger Voss            @vossroger   \n",
       "2  Willamette Valley   Paul Gregutt           @paulgwine    \n",
       "\n",
       "                                           title         variety  \\\n",
       "0              Nicosia 2013 Vulkà Bianco  (Etna)     White Blend   \n",
       "1  Quinta dos Avidagos 2011 Avidagos Red (Douro)  Portuguese Red   \n",
       "2  Rainstorm 2013 Pinot Gris (Willamette Valley)      Pinot Gris   \n",
       "\n",
       "                winery  \n",
       "0              Nicosia  \n",
       "1  Quinta dos Avidagos  \n",
       "2            Rainstorm  "
      ]
     },
     "execution_count": 4,
     "metadata": {},
     "output_type": "execute_result"
    }
   ],
   "source": [
    "wine.head(3)"
   ]
  },
  {
   "cell_type": "code",
   "execution_count": 5,
   "metadata": {
    "collapsed": true
   },
   "outputs": [],
   "source": [
    "def normalize(review):\n",
    "    review_letters = re.sub('[^a-zA-Z]', ' ', str(review))\n",
    "    review_letters = review_letters.lower()\n",
    "    return (\" \".join(review_letters.split()))"
   ]
  },
  {
   "cell_type": "code",
   "execution_count": 6,
   "metadata": {
    "collapsed": true
   },
   "outputs": [],
   "source": [
    "def remove_stopwords(review):\n",
    "    stop_words = set(stopwords.words('english'))\n",
    "    ls = [word for word in review.split() if word not in stop_words]\n",
    "    txt = \" \".join(ls)\n",
    "    return (txt)"
   ]
  },
  {
   "cell_type": "markdown",
   "metadata": {},
   "source": [
    "# Extracting the flavours from the descriptions\n",
    "Here I will use spacy to extract all the nouns and noun phrases which is the type of the fruit flavours and I will filter this list better with another list I have from external sources."
   ]
  },
  {
   "cell_type": "code",
   "execution_count": 7,
   "metadata": {
    "collapsed": true
   },
   "outputs": [],
   "source": [
    "noun_words = []\n",
    "for review in wine['description']:\n",
    "    blob = TextBlob(normalize(review))\n",
    "    noun_words.append(\" \".join([word for word, tag in blob.tags if tag == 'NN'] + blob.noun_phrases))"
   ]
  },
  {
   "cell_type": "code",
   "execution_count": 44,
   "metadata": {},
   "outputs": [],
   "source": [
    "# save the noun word list because it takes too long to generate everytime\n",
    "pickle_out = open('data/modified/noun_word_list', 'wb')\n",
    "pickle.dump(foods, pickle_out)\n",
    "pickle_out.close()"
   ]
  },
  {
   "cell_type": "code",
   "execution_count": 9,
   "metadata": {
    "collapsed": true
   },
   "outputs": [],
   "source": [
    "stops = ['wine', 'pasta', 'whole', 'character', 'cabernet', 'wood', 'spicy', 'tannins', 'crisp', 'juicy', 'fruits', 'blend', 'sauvignon', 'structure', 'fruity', 'aromas', 'flavors', 'ripe', 'syrup', 'cake', 'cheese', 'cream', 'bean', 'hard', 'milk', 'sauce', 'barbecue', 'steak', 'rock', 'powder', 'ruby', 'oil', 'salt', 'pastry', 'flesh', 'bitter', 'sugar', 'leather', 'herbal', 'creamy', 'table', 'brown', 'golden', 'gold', 'extract', 'broad', 'natural', 'salmon', 'tongue', 'dry', 'pure', 'root', 'sea', 'port', 'chewy', 'solid', 'blue', 'pink', 'ground', 'beef', 'purple', 'spring', 'lean', 'raw', 'red', 'black', 'white', 'yellow', 'mature', 'tropical', 'meat', 'wild', 'new', 'juice', 'firm', 'sweet', 'fresh', 'light', 'flower', 'green', 'soft', 'skin', 'spice', 'dark', 'herb', 'palate', 'valley', 'finish', 'drink', 'flavor', 'fruit', 'aroma', 'note', 'texture', 'thi', 'acidity']\n",
    "tfidf_vectorizer = TfidfVectorizer(stop_words=stops)\n",
    "tfidf_matrix = tfidf_vectorizer.fit_transform(noun_words)"
   ]
  },
  {
   "cell_type": "code",
   "execution_count": 10,
   "metadata": {
    "collapsed": true
   },
   "outputs": [],
   "source": [
    "# features holds a list of all the words in the tfidf's vocabulary in the same order as the column in the matrix\n",
    "features = tfidf_vectorizer.get_feature_names()\n",
    "weights = np.asarray(tfidf_matrix.mean(axis=0)).ravel().tolist()\n",
    "weights_df = pd.DataFrame({'term':features, 'weights':weights})\n",
    "weights_df = weights_df.sort_values(by='weights', ascending=False)"
   ]
  },
  {
   "cell_type": "code",
   "execution_count": 11,
   "metadata": {
    "collapsed": true
   },
   "outputs": [],
   "source": [
    "# call the foods database \n",
    "food_db = pd.read_csv('data/raw/8b. AUSNUT 2011-13 AHS Food Nutrient Database.csv')"
   ]
  },
  {
   "cell_type": "code",
   "execution_count": 12,
   "metadata": {
    "collapsed": true
   },
   "outputs": [],
   "source": [
    "# process foods\n",
    "test = set(word.strip().lower() for ls in list(map(lambda x:x.split(',') ,food_db['Food Name'].tolist())) for word in ls)"
   ]
  },
  {
   "cell_type": "code",
   "execution_count": 13,
   "metadata": {},
   "outputs": [
    {
     "name": "stdout",
     "output_type": "stream",
     "text": [
      "cherry\n",
      "berry\n",
      "plum\n",
      "apple\n",
      "blackberry\n",
      "citrus\n",
      "vanilla\n",
      "pepper\n",
      "peach\n",
      "raspberry\n",
      "chocolate\n",
      "currant\n",
      "lemon\n",
      "pear\n",
      "orange\n",
      "licorice\n",
      "lime\n",
      "tart\n",
      "grapefruit\n",
      "coffee\n",
      "melon\n",
      "strawberry\n",
      "honey\n",
      "pineapple\n",
      "apricot\n",
      "jam\n",
      "almond\n",
      "cranberry\n",
      "herbs\n",
      "blueberry\n",
      "cinnamon\n",
      "mocha\n",
      "mint\n",
      "grape\n",
      "caramel\n",
      "tea\n",
      "cherries\n",
      "pie\n",
      "prune\n",
      "sage\n",
      "raisin\n",
      "tomato\n",
      "mango\n",
      "nectarine\n",
      "sour\n",
      "berries\n",
      "coconut\n",
      "pomegranate\n",
      "butter\n",
      "olive\n",
      "bacon\n",
      "banana\n",
      "mushroom\n",
      "fig\n",
      "thyme\n",
      "butterscotch\n",
      "mousse\n",
      "ginger\n",
      "nutmeg\n",
      "lychee\n",
      "bread\n",
      "rhubarb\n",
      "jasmine\n",
      "pine\n",
      "liqueur\n",
      "truffle\n",
      "yeast\n",
      "nut\n",
      "balsamic\n",
      "hazelnut\n",
      "quince\n",
      "fennel\n",
      "watermelon\n",
      "dill\n",
      "beer\n",
      "custard\n",
      "guava\n",
      "marmalade\n",
      "pork\n",
      "cardamom\n"
     ]
    }
   ],
   "source": [
    "# pickout the foods from the wine list\n",
    "terms = weights_df[weights_df['weights'] > 0.001]\n",
    "foods = []\n",
    "for term in terms['term']:\n",
    "    if term in test:\n",
    "        print(term)\n",
    "        foods.append(term)"
   ]
  },
  {
   "cell_type": "code",
   "execution_count": 22,
   "metadata": {
    "collapsed": true
   },
   "outputs": [],
   "source": [
    "pickle_out = open('data/modified/flavours_list.pickle', 'wb')\n",
    "pickle.dump(foods, pickle_out)\n",
    "pickle_out.close()"
   ]
  },
  {
   "cell_type": "markdown",
   "metadata": {},
   "source": [
    "# Implementing the word2vec model"
   ]
  },
  {
   "cell_type": "code",
   "execution_count": 14,
   "metadata": {
    "collapsed": true
   },
   "outputs": [],
   "source": [
    "# this list is to be given as input to word2vec because is word tokenized\n",
    "wine_processed_reviews = []\n",
    "for review in wine['description']:\n",
    "    wine_processed_reviews.append(word_tokenize(remove_stopwords(normalize(review))))"
   ]
  },
  {
   "cell_type": "code",
   "execution_count": 15,
   "metadata": {
    "collapsed": true
   },
   "outputs": [],
   "source": [
    "from gensim.models import Word2Vec\n",
    "\n",
    "## Word2Vec needs a large corpus to train in order to perform well\n",
    "cbow_model = Word2Vec(wine_processed_reviews, min_count = 4, size = 300, window = 8)"
   ]
  },
  {
   "cell_type": "code",
   "execution_count": 16,
   "metadata": {},
   "outputs": [
    {
     "data": {
      "text/plain": [
       "[('compote', 0.6358773112297058),\n",
       " ('preserves', 0.6207005977630615),\n",
       " ('syrup', 0.6142028570175171),\n",
       " ('liqueur', 0.5811886787414551),\n",
       " ('pie', 0.5681503415107727)]"
      ]
     },
     "execution_count": 16,
     "metadata": {},
     "output_type": "execute_result"
    }
   ],
   "source": [
    "cbow_model.wv.most_similar('jam', topn=5)"
   ]
  },
  {
   "cell_type": "code",
   "execution_count": 17,
   "metadata": {},
   "outputs": [
    {
     "data": {
      "text/plain": [
       "[('creamsicle', 0.6927849650382996),\n",
       " ('honey', 0.6405869722366333),\n",
       " ('pekoe', 0.6153730750083923),\n",
       " ('slices', 0.6142177581787109),\n",
       " ('mandarin', 0.6107165217399597)]"
      ]
     },
     "execution_count": 17,
     "metadata": {},
     "output_type": "execute_result"
    }
   ],
   "source": [
    "cbow_model.wv.most_similar('marmalade', topn=5)"
   ]
  },
  {
   "cell_type": "markdown",
   "metadata": {},
   "source": [
    "# Find wines based on query"
   ]
  },
  {
   "cell_type": "code",
   "execution_count": 23,
   "metadata": {
    "collapsed": true
   },
   "outputs": [],
   "source": [
    "pickle_in = open('data/modified/flavours_list.pickle', 'rb')\n",
    "foods_list = pickle.load(pickle_in)"
   ]
  },
  {
   "cell_type": "code",
   "execution_count": 24,
   "metadata": {},
   "outputs": [
    {
     "name": "stdout",
     "output_type": "stream",
     "text": [
      "['cherry', 'berry', 'plum', 'apple', 'blackberry', 'citrus', 'vanilla', 'pepper', 'peach', 'raspberry', 'chocolate', 'currant', 'lemon', 'pear', 'orange', 'licorice', 'lime', 'tart', 'grapefruit', 'coffee', 'melon', 'strawberry', 'honey', 'pineapple', 'apricot', 'jam', 'almond', 'cranberry', 'herbs', 'blueberry', 'cinnamon', 'mocha', 'mint', 'grape', 'caramel', 'tea', 'cherries', 'pie', 'prune', 'sage', 'raisin', 'tomato', 'mango', 'nectarine', 'sour', 'berries', 'coconut', 'pomegranate', 'butter', 'olive', 'bacon', 'banana', 'mushroom', 'fig', 'thyme', 'butterscotch', 'mousse', 'ginger', 'nutmeg', 'lychee', 'bread', 'rhubarb', 'jasmine', 'pine', 'liqueur', 'truffle', 'yeast', 'nut', 'balsamic', 'hazelnut', 'quince', 'fennel', 'watermelon', 'dill', 'beer', 'custard', 'guava', 'marmalade', 'pork', 'cardamom']\n"
     ]
    }
   ],
   "source": [
    "print(foods_list)"
   ]
  },
  {
   "cell_type": "code",
   "execution_count": 50,
   "metadata": {
    "collapsed": true
   },
   "outputs": [],
   "source": [
    "query = 'burnt rubber'"
   ]
  },
  {
   "cell_type": "code",
   "execution_count": 26,
   "metadata": {
    "collapsed": true
   },
   "outputs": [],
   "source": [
    "def wine_finder(query):\n",
    "    query_rank = tfidf_vectorizer.transform([query])\n",
    "    sims = cosine_similarity(query_rank, tfidf_matrix).flatten()\n",
    "    related_docs_indices = sims.argsort()[:-5:-1]\n",
    "    return related_docs_indices, sims[related_docs_indices]"
   ]
  },
  {
   "cell_type": "code",
   "execution_count": 46,
   "metadata": {
    "collapsed": true
   },
   "outputs": [],
   "source": [
    "def wine_results_printer(query):\n",
    "    print('The top wines that much the query (', query, '):')\n",
    "    doc_indices, similarities = wine_finder(query)\n",
    "    for index, doc_index in enumerate(doc_indices):\n",
    "        print(index, ')', wine['description'][doc_index])\n",
    "        print()"
   ]
  },
  {
   "cell_type": "code",
   "execution_count": 51,
   "metadata": {},
   "outputs": [
    {
     "name": "stdout",
     "output_type": "stream",
     "text": [
      "The top wines that much the query ( burnt rubber ):\n",
      "0 ) Tastes and smells hot, with a burnt rubber note that persists through the tart, peppery finish. The wine is very dry, with little fruit.\n",
      "\n",
      "1 ) Quite tannic, this hits hard with char, burnt rubber and espresso flavors, some black fruit just showing through. Best to drink up by 2018.\n",
      "\n",
      "2 ) This has aromas of prunes and burnt rubber, but it tastes better than that. It's a pretty raw effort.\n",
      "\n",
      "3 ) Possibly too much wood has been used in maturing this wine, which results in a toasty, burnt character to the otherwise ripe fruit. At four years, the wood should have mellowed.\n",
      "\n",
      "None\n"
     ]
    }
   ],
   "source": [
    "print(wine_results_printer(query))"
   ]
  },
  {
   "cell_type": "code",
   "execution_count": null,
   "metadata": {
    "collapsed": true
   },
   "outputs": [],
   "source": []
  },
  {
   "cell_type": "code",
   "execution_count": null,
   "metadata": {
    "collapsed": true
   },
   "outputs": [],
   "source": []
  },
  {
   "cell_type": "code",
   "execution_count": 220,
   "metadata": {
    "collapsed": true
   },
   "outputs": [],
   "source": [
    "similarity_dictionary = dict()\n",
    "for index, word in enumerate(query.split()):\n",
    "    similarity_dictionary[word] = [word[0] for word in cbow_model.wv.most_similar(word, topn=2)]"
   ]
  },
  {
   "cell_type": "code",
   "execution_count": 221,
   "metadata": {},
   "outputs": [
    {
     "data": {
      "text/plain": [
       "{'jam': ['liqueur', 'preserves'],\n",
       " 'plum': ['licorice', 'loamy'],\n",
       " 'vanilla': ['caramelized', 'toffee']}"
      ]
     },
     "execution_count": 221,
     "metadata": {},
     "output_type": "execute_result"
    }
   ],
   "source": [
    "similarity_dictionary"
   ]
  },
  {
   "cell_type": "code",
   "execution_count": 222,
   "metadata": {
    "collapsed": true
   },
   "outputs": [],
   "source": [
    "ls = []\n",
    "for index, word in enumerate(query.split()):\n",
    "    for similar_word in similarity_dictionary[word]:\n",
    "        temporary_list = query.split()\n",
    "        temporary_list[index] = similar_word\n",
    "        ls.append(temporary_list)"
   ]
  },
  {
   "cell_type": "code",
   "execution_count": 223,
   "metadata": {},
   "outputs": [
    {
     "name": "stdout",
     "output_type": "stream",
     "text": [
      "The top wines that much the query ( plum vanilla jam ):\n",
      "0 ) Soft and dull, with blackberry and cherry jam and sweet vanilla flavors. The tannins and acids both are low. Not going anywhere.\n",
      "\n",
      "1 ) Firm and full-bodied, this opens with aromas of mature plum, underbrush, baked earth, vanilla and exotic spice. The high-toned, chewy palate doles out ripe black cherry, raspberry jam, vanilla, mocha, white pepper and mint alongside polished tannins.\n",
      "\n",
      "2 ) Plum, French oak, coffee, vanilla and Oriental spice aromas emerge in the glass. The concentrated palate offers mature black cherry, blackberry jam, vanilla and licorice alongside fine-grained tannins.\n",
      "\n",
      "3 ) Made entirely from Sangiovese, this opens with aromas of black plum, vanilla and toast. The concentrated palate doles out black cherry jam, cedar and tobacco alongside assertive tannins. Drink through 2019.\n",
      "\n",
      "The top wines that much the query ( licorice vanilla jam ):\n",
      "0 ) Soft and dull, with blackberry and cherry jam and sweet vanilla flavors. The tannins and acids both are low. Not going anywhere.\n",
      "\n",
      "1 ) This leads with vanilla, ripe black-skinned berry and baking spice aromas. The firm palate delivers tobacco, licorice and black cherry jam flavors alongside chewy tannins. It finishes on an astringent note. Drink through 2019.\n",
      "\n",
      "2 ) Sugary and simple, with sweet cola, licorice, blackberry and cherry jam flavors. The tannins are very finely structured, but the wine is just too sweet.\n",
      "\n",
      "3 ) Plum, French oak, coffee, vanilla and Oriental spice aromas emerge in the glass. The concentrated palate offers mature black cherry, blackberry jam, vanilla and licorice alongside fine-grained tannins.\n",
      "\n",
      "=======================\n",
      "The top wines that much the query ( loamy vanilla jam ):\n",
      "0 ) Soft and dull, with blackberry and cherry jam and sweet vanilla flavors. The tannins and acids both are low. Not going anywhere.\n",
      "\n",
      "1 ) Despite being heavy and flat, this is an easygoing wine with raisiny notes on the nose and earthy, loamy berry and raisin flavors. The finish is soft, with nothing jagged or hard to deal with.\n",
      "\n",
      "2 ) Loamy cassis, black plum and blueberry aromas announce a fleshy palate that's wide but low on definition. Earthy, loamy berry flavors are mildly toasty on the finish, which is chunky but soft in feel. Drink now.\n",
      "\n",
      "3 ) Aromas of black fruits, integrated spices, licorice and tobacco are sturdy and almost heady. This feels layered, with structurally sound, slightly scraping tannins. Flavors of spicy cherry and cassis finish ripe, loamy and with a note of prune. Drink through 2020.\n",
      "\n",
      "=======================\n",
      "The top wines that much the query ( plum caramelized jam ):\n",
      "0 ) Grapefruits and white blossoms linger from start to finish on this intensely aromatic Riesling, highlighting flavors of sweet peach and honey. It's off dry in style, but has a warm, caramelized tone that offsets brisk acidity.\n",
      "\n",
      "1 ) This is tastes a little soft and sweet, with raspberry jam, toast and white sugar flavors. Drink now.\n",
      "\n",
      "2 ) Very ripe, juicy and spicy, this is a forward, fruity wine that should be consumed within the year. It has rich plum and jam flavors, light tannins and a soft aftertaste.\n",
      "\n",
      "3 ) Dry and somewhat heavy, it has cherry jam and oak flavors.\n",
      "\n",
      "=======================\n",
      "The top wines that much the query ( plum toffee jam ):\n",
      "0 ) All Cabernet Sauvignon, this wine offers reserved aromas of dried herbs, toffee and high-toned dark fruit. The black fruit flavors are full and generous but still elegant with a pronounced finish.\n",
      "\n",
      "1 ) A light, toffee-and-caramel-tinged red that seems to be fading. Some earth and cherry flavors provide for acceptable drinking now, but this wine is headed south. Get to it soon.\n",
      "\n",
      "2 ) Aging has brought out a toffee character as well as the red fruits. It is ripe, smoothly textured and recognizably a Port with the hints of spirit at the end.\n",
      "\n",
      "3 ) The wine shows considerable wood aging flavors as well as the sweet toffee and fruit flavors. The wood spice is too dominant and throws the rest of the wine out of balance.\n",
      "\n",
      "=======================\n",
      "The top wines that much the query ( plum vanilla liqueur ):\n",
      "0 ) A little stewy on the nose, with vanilla, liqueur and roasted berry aromas. The palate is young and vibrant, arguably teetering on sharp, with piercing cherry flavors and lots of oak. Flavorful but rough, with burnt brown sugar on the finish.\n",
      "\n",
      "1 ) This blend of Cabernet Sauvignon and Merlot opens with aromas of cherry liqueur and cassis, followed by accents of leather and toasted nut. The palate is tight and fresh, and it offers touches of citrus and forest fruit.\n",
      "\n",
      "2 ) This blend of Cabernet Sauvignon and Merlot opens with aromas of cherry liqueur and cassis, followed by accents of leather and toasted nut. The palate is tight and fresh, and it offers touches of citrus and forest fruit.\n",
      "\n",
      "3 ) There are raw, bright qualities of cherry liqueur and raspberry syrup that open the nose. It shows solid and polished tannins.\n",
      "\n",
      "=======================\n",
      "The top wines that much the query ( plum vanilla preserves ):\n",
      "0 ) Made predominantly from Sangiovese, this has delicate black-skinned fruit and brown spice aromas. The palate is simple, with vanilla-laced black plum fruit and laid-back tannins. Drink soon.\n",
      "\n",
      "1 ) Fresh aromas of plum, vanilla, flowers and spice lead to an off-dry palate full of blue-fruit flavors.\n",
      "\n",
      "2 ) Ripe and fruit forward. Strong notes of berry preserves and juicy black plum are laced with notes of purple flowers and sweet smoked meat. Medium weight with soft tannins and a clean finish. Drink now.\n",
      "\n",
      "3 ) Aromas of butterscotch, apricot preserves and vanilla caramel lead to flavors of quince preserves and apricot tart. Round in the mouth, it shows excellent structure and delights with refreshing acidity on the finish.\n",
      "\n",
      "=======================\n"
     ]
    }
   ],
   "source": [
    "wine_results_printer(query)\n",
    "for new_query in ls:\n",
    "    query = \" \".join(new_query)\n",
    "    wine_results_printer(query)\n",
    "    print('=======================')"
   ]
  }
 ],
 "metadata": {
  "kernelspec": {
   "display_name": "Python 3",
   "language": "python",
   "name": "python3"
  },
  "language_info": {
   "codemirror_mode": {
    "name": "ipython",
    "version": 3
   },
   "file_extension": ".py",
   "mimetype": "text/x-python",
   "name": "python",
   "nbconvert_exporter": "python",
   "pygments_lexer": "ipython3",
   "version": "3.6.3"
  }
 },
 "nbformat": 4,
 "nbformat_minor": 2
}
